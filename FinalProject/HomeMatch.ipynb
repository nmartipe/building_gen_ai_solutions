{
  "cells": [
    {
      "cell_type": "markdown",
      "source": [
        "# HomeMatch Project\n",
        "\n",
        "Imagine you're a talented developer at \"Future Homes Realty\", a forward-thinking real estate company. In an industry where personalization is key to customer satisfaction, your company wants to revolutionize how clients interact with real estate listings. The goal is to create a personalized experience for each buyer, making the property search process more engaging and tailored to individual preferences.\n",
        "\n",
        "Your task is to develop an innovative application named \"HomeMatch\". This application leverages large language models (LLMs) and vector databases to transform standard real estate listings into personalized narratives that resonate with potential buyers' unique preferences and needs.\n",
        "\n",
        "* Step 1: Generating Real Estate Listings\n",
        "\n",
        "Generate real estate listings using a Large Language Model. Generate at least 10 listings. This can involve creating prompts for the LLM to produce descriptions of various properties.\n",
        "\n",
        "\n",
        "* Step 2: Storing Listings in a Vector Database\n",
        "\n",
        "Initialize and configure ChromaDB or a similar vector database to store real estate listings.\n",
        "\n",
        "Convert the LLM-generated listings into suitable embeddings that capture the semantic content of each listing, and store these embeddings in the vector database.\n",
        "\n",
        "* Step 3: Building the User Preference Interface\n",
        "\n",
        "Collect buyer preferences, such as the number of bedrooms, bathrooms, location, and other specific requirements from a set of questions or telling the buyer to enter their preferences in natural language.\n",
        "\n",
        "* Step 4: Searching Based on Preferences\n",
        "\n",
        "Use the structured buyer preferences to perform a semantic search on the vector database, retrieving listings that most closely match the user's requirements.\n",
        "\n",
        "* Step 5: Personalizing Listing Descriptions\n",
        "\n",
        "For each retrieved listing, use the LLM to augment the description, tailoring it to resonate with the buyers specific preferences. This involves subtly emphasizing aspects of the property that align with what the buyer is looking for."
      ],
      "metadata": {
        "id": "yMURcanX584f"
      },
      "id": "yMURcanX584f"
    },
    {
      "cell_type": "markdown",
      "source": [
        "## Step 0: Pip installs and libraries"
      ],
      "metadata": {
        "id": "xkEi2U8givYJ"
      },
      "id": "xkEi2U8givYJ"
    },
    {
      "cell_type": "code",
      "source": [
        "pip install openai==0.28\n",
        "pip install sentence_transformers\n",
        "pip install langchain\n",
        "pip install --upgrade chromadb==0.4.14"
      ],
      "metadata": {
        "id": "APSpGmc07Gty"
      },
      "id": "APSpGmc07Gty",
      "execution_count": null,
      "outputs": []
    },
    {
      "cell_type": "code",
      "source": [
        "from langchain.llms import OpenAI\n",
        "import openai\n",
        "import json\n",
        "import pandas as pd\n",
        "import pickle"
      ],
      "metadata": {
        "id": "CLa5ouO4jEKM"
      },
      "id": "CLa5ouO4jEKM",
      "execution_count": 25,
      "outputs": []
    },
    {
      "cell_type": "markdown",
      "id": "9764c65d",
      "metadata": {
        "id": "9764c65d"
      },
      "source": [
        "## Step 1: Generating Real Estate Listings"
      ]
    },
    {
      "cell_type": "code",
      "execution_count": 12,
      "id": "1ab75855",
      "metadata": {
        "id": "1ab75855"
      },
      "outputs": [],
      "source": [
        "api_key = \"YOUR_API_KEY\"\n",
        "openai.api_key = api_key"
      ]
    },
    {
      "cell_type": "code",
      "execution_count": 13,
      "id": "f1c18e02",
      "metadata": {
        "id": "f1c18e02"
      },
      "outputs": [],
      "source": [
        "def generate_real_estate_listings(prompt, num_listings=13):\n",
        "    try:\n",
        "        response = openai.ChatCompletion.create(\n",
        "            model=\"gpt-3.5-turbo\",\n",
        "            messages=[\n",
        "                {\n",
        "                    \"role\": \"system\",\n",
        "                    \"content\": \"You are a knowledgeable real estate agent. Generate {} real estate examples based on the provided example.\".format(num_listings)\n",
        "                },\n",
        "                {\n",
        "                    \"role\": \"user\",\n",
        "                    \"content\": prompt\n",
        "                }\n",
        "            ],\n",
        "            temperature=0.7,\n",
        "            max_tokens=250 * num_listings,\n",
        "            top_p=1,\n",
        "            frequency_penalty=0,\n",
        "            presence_penalty=0\n",
        "        )\n",
        "        listings = [choice.message.content for choice in response.choices]\n",
        "        return listings\n",
        "    except Exception as e:\n",
        "        return json.dumps([{\"error\": str(e)}])"
      ]
    },
    {
      "cell_type": "code",
      "execution_count": 15,
      "id": "6eb5aa12",
      "metadata": {
        "id": "6eb5aa12"
      },
      "outputs": [],
      "source": [
        "prompt = \"\"\"Neighborhood: Green Oaks; Price: $800,000, Bedrooms: 3, Bathrooms: 2; House Size: 2,000 sqft; Description: Welcome to this eco-friendly oasis nestled in the heart of Green Oaks. This charming 3-bedroom, 2-bathroom home boasts energy-efficient features such as solar panels and a well-insulated structure. Natural light floods the living spaces, highlighting the beautiful hardwood floors and eco-conscious finishes. The open-concept kitchen and dining area lead to a spacious backyard with a vegetable garden, perfect for the eco-conscious family.; Neighborhood Description: Green Oaks is a close-knit, environmentally-conscious community with access to organic grocery stores, community gardens, and bike paths. Take a stroll through the nearby Green Oaks Park or grab a cup of coffee at the cozy Green Bean Cafe. With easy access to public transportation and bike lanes, commuting is a breeze.\"\"\"\n",
        "\n",
        "generated_listings = generate_real_estate_listings(prompt)"
      ]
    },
    {
      "cell_type": "code",
      "execution_count": 16,
      "id": "9ebf08fd",
      "metadata": {
        "colab": {
          "base_uri": "https://localhost:8080/"
        },
        "id": "9ebf08fd",
        "outputId": "eb1bf83f-8917-46d5-fbe2-204805483a8f"
      },
      "outputs": [
        {
          "output_type": "execute_result",
          "data": {
            "text/plain": [
              "[\"Neighborhood: Lakefront Estates; Price: $1,200,000; Bedrooms: 4; Bathrooms: 3.5; House Size: 3,500 sqft; Description: Enjoy luxurious lakeside living in this stunning 4-bedroom, 3.5-bathroom estate in Lakefront Estates. The grand foyer welcomes you into a spacious open-concept living area with panoramic views of the lake. The gourmet kitchen features high-end appliances and a large island, perfect for entertaining. The expansive backyard offers a private dock and boat lift, ideal for water enthusiasts. Neighborhood Description: Lakefront Estates is an exclusive waterfront community known for its upscale homes, private marina, and scenic walking trails. Residents can enjoy boating, fishing, and lakeside picnics just steps from their front door. Close proximity to upscale shopping, fine dining, and top-rated schools make this neighborhood highly desirable. \\n\\nNeighborhood: Mountain View Heights; Price: $750,000; Bedrooms: 3; Bathrooms: 2.5; House Size: 2,300 sqft; Description: Nestled in the serene Mountain View Heights, this 3-bedroom, 2.5-bathroom home offers breathtaking mountain views from every room. The spacious living area features a cozy fireplace and vaulted ceilings, creating a warm and inviting atmosphere. The master suite boasts a private balcony overlooking the mountains, perfect for enjoying your morning coffee. The landscaped backyard is an outdoor oasis with a patio, fire pit, and lush garden. Neighborhood Description: Mountain View Heights is a peaceful enclave surrounded by hiking trails, parks, and scenic overlooks. Residents can explore the great outdoors while still being close to shopping, dining, and entertainment options. This neighborhood is perfect for nature lovers seeking a tranquil retreat. \\n\\nNeighborhood: Urban Loft District; Price: $500,000; Bedrooms: 2; Bathrooms: 2; House Size: 1,800 sqft; Description: Experience modern urban living in this stylish 2-bedroom, 2-bathroom loft located in the vibrant Urban Loft District. The industrial-chic design features exposed brick walls, high ceilings, and polished concrete floors. The open-concept living area is perfect for entertaining, with a gourmet kitchen and a spacious dining area. Floor-to-ceiling windows flood the space with natural light, creating a bright and airy ambiance. Neighborhood Description: The Urban Loft District is a trendy neighborhood known for its converted loft spaces, art galleries, and hip eateries. Residents can walk to boutique shops, cafes, and cultural attractions, making it a vibrant and lively community for young professionals and creatives. \\n\\nNeighborhood: Seaside Retreat; Price: $900,000; Bedrooms: 4; Bathrooms: 3; House Size: 2,500 sqft; Description: Escape to your own private paradise in this 4-bedroom, 3-bathroom seaside retreat. The coastal-inspired home features nautical accents, beachy hues, and panoramic ocean views. The gourmet kitchen is a chef's dream with custom cabinetry, granite countertops, and top-of-the-line appliances. The outdoor living area is perfect for al fresco dining and relaxing by the fire pit while listening to the waves. Neighborhood Description: Seaside Retreat is a coastal community known for its sandy beaches, seaside cafes, and charming boutiques. Residents can enjoy surfing, paddleboarding, and beachcombing just steps from their front door. With a laid-back vibe and stunning sunsets, this neighborhood offers the ultimate beach lifestyle. \\n\\nNeighborhood: Historic Downtown; Price: $600,000; Bedrooms: 3; Bathrooms: 2; House Size: 1,600 sqft; Description: Step back in time with this charming 3-bedroom, 2-bathroom historic home in Downtown. The restored Victorian features original hardwood floors, crown molding, and period details throughout. The cozy living room is anchored by a vintage fireplace, perfect for chilly evenings. The wrap-around porch is ideal for sipping lemonade and watching the world go by. Neighborhood Description: Historic Downtown is a quaint district filled with tree-lined streets, historic homes, and unique shops. Residents can walk to local cafes, farmers markets, and cultural events, immersing themselves in the rich history and charm of the neighborhood. \\n\\nNeighborhood: Golf Course Estates; Price: $1,500,000; Bedrooms: 5; Bathrooms: 4.5; House Size: 4,000 sqft; Description: Live in luxury in this expansive 5-bedroom, 4.5-bathroom estate located in Golf Course Estates. The grand entrance leads to a formal living room with a marble fireplace and a wall of windows overlooking the manicured fairways. The gourmet kitchen features custom cabinetry, high-end appliances, and a breakfast nook with views of the lush greenery. The backyard oasis includes a sparkling pool, spa, and outdoor kitchen, perfect for entertaining. Neighborhood Description: Golf Course Estates is an upscale community nestled around a prestigious golf course, offering residents exclusive access to world-class amenities such as a clubhouse, tennis courts, and fine dining. With rolling hills and scenic views, this neighborhood is a golfer's paradise. \\n\\nNeighborhood: Vineyard Valley; Price: $850,000; Bedrooms: 4; Bathrooms: 3; House Size: 2,800 sqft; Description: Embrace the vineyard lifestyle in this 4-bedroom, 3-bathroom home located in the picturesque Vineyard Valley. The open-concept living area features a stone fireplace, vaulted ceilings, and French doors leading to a sprawling patio with vineyard views. The chef's kitchen is equipped with a wine fridge, stainless steel appliances, and a large island for casual dining. The backyard offers a fire pit, outdoor dining area, and a vine-covered pergola, perfect for enjoying a glass of wine at sunset. Neighborhood Description: Vineyard Valley is a wine country community known for its rolling vineyards, tasting rooms, and farm-to-table dining options. Residents can explore local wineries, attend wine festivals, and enjoy the bounty of the land in this idyllic setting. \\n\\nNeighborhood: Equestrian Estates; Price: $1,800,000; Bedrooms: 6; Bathrooms: 5; House Size: 5,000 sqft; Description: Live the equestrian dream in this expansive 6-bedroom, 5-bathroom estate located in Equestrian Estates. The grand foyer leads to a formal dining room and a cozy library with custom built-ins, perfect for quiet evenings by the fireplace. The gourmet kitchen features a commercial-grade range, granite countertops, and a breakfast bar overlooking the horse pastures. The property includes a 5-stall barn, riding arena, and fenced paddocks, ideal for horse enthusiasts. Neighborhood Description: Equestrian Estates is a horse lover's paradise with bridle paths, riding trails, and equestrian centers nearby. Residents can enjoy the tranquility of country living while still being close to upscale shopping, dining, and entertainment options. \\n\\nNeighborhood: Modern Skyline Lofts; Price: $700,000; Bedrooms: 2; Bathrooms: 2; House Size: 1,500 sqft; Description: Elevate your lifestyle in this sleek 2-bedroom, 2-bathroom loft in the Modern Skyline Lofts. The contemporary design features floor-to-ceiling windows, designer fixtures, and a gourmet kitchen with stainless steel appliances. The open living area is ideal for entertaining, with a private balcony offering sweeping city views. The building amenities include a rooftop terrace, fitness center, and concierge service for a luxurious urban experience. Neighborhood Description: Modern Skyline Lofts is a cosmopolitan community in the heart of the city, with easy access to restaurants, shops, and cultural attractions. Residents can walk to art galleries, theaters, and trendy cafes, immersing themselves in the vibrant urban scene. \\n\\nNeighborhood: Waterfront Riviera; Price: $1,300,000; Bedrooms: 4; Bathrooms: 3.5; House Size: 3,200 sqft; Description: Indulge in waterfront living in this luxurious 4-bedroom, 3.5-bathroom home in Waterfront Riviera. The grand entryway leads to a formal living room with a stone fireplace and panoramic views of the marina. The chef's kitchen features custom cabinetry, quartz countertops, and a breakfast nook overlooking the water. The outdoor living area includes a private dock, infinity pool, and covered patio, perfect for watching the sunset over the bay. Neighborhood Description: Waterfront Riviera is an exclusive waterfront community known for its private boat slips, yacht club, and upscale waterfront dining options. Residents can enjoy boating, sailing, and waterfront activities just steps from their front door. With breathtaking views and a resort-like atmosphere, this neighborhood offers a luxurious coastal lifestyle. \\n\\nNeighborhood: Mountain Retreat; Price: $950,000; Bedrooms: 3; Bathrooms: 3; House Size: 2,400 sqft; Description: Escape to the mountains in this charming 3-bedroom, 3-bathroom retreat tucked away in the peaceful Mountain Retreat community. The cozy living room features a stone fireplace, exposed beams, and mountain views. The gourmet kitchen is a chef's delight with granite countertops, stainless steel appliances, and a breakfast bar. The outdoor deck is perfect for enjoying the fresh mountain air and listening to the sounds of nature. Neighborhood Description: Mountain Retreat is a secluded mountain community known for its hiking trails, wildlife sightings, and serene natural beauty. Residents can explore the great outdoors, go skiing in the winter, and enjoy the tranquility of mountain living year-round. \\n\\nNeighborhood: Lakeside Haven; Price: $850,000; Bedrooms: 4; Bathrooms: 3; House Size: 2,600 sqft; Description: Enjoy lakeside living in this 4-bedroom, 3-bathroom haven located in the serene Lakeside Haven community. The light-filled living area features a stone fireplace, vaulted ceilings, and lake views from every window. The chef's kitchen offers granite countertops, custom cabinetry, and a breakfast nook overlooking the water. The backyard oasis is an entertainer's dream with a covered patio, outdoor kitchen, and private dock for boating and fishing. Neighborhood Description: Lakeside Haven is a waterfront community known for its tranquil lakes, nature trails, and water activities. Residents can kayak, paddleboard, and swim in the pristine waters just steps from their backyard. With a peaceful ambiance and stunning views, this neighborhood offers a relaxing retreat from the hustle and bustle of city life. \\n\\nNeighborhood: Coastal Cottage Community; Price: $750,000; Bedrooms: 3; Bathrooms: 2.5; House Size: 2,200 sqft; Description: Experience coastal living in this charming 3-bedroom, 2.5-bathroom cottage located in the quaint Coastal Cottage Community. The light and airy living area features a cozy fireplace, shiplap accents, and French doors leading to a screened porch. The gourmet kitchen boasts quartz countertops, subway tile backsplash, and stainless steel appliances. The landscaped backyard is a private oasis with a fire pit, outdoor dining area, and lush gardens. Neighborhood Description: Coastal Cottage Community is a seaside neighborhood known for its sandy beaches, seaside cafes, and laid-back lifestyle. Residents can enjoy beachcombing, surfing, and sunset picnics just a short walk from their front door. With a strong sense of community and a relaxed vibe, this neighborhood offers the perfect coastal escape.\"]"
            ]
          },
          "metadata": {},
          "execution_count": 16
        }
      ],
      "source": [
        "generated_listings"
      ]
    },
    {
      "cell_type": "code",
      "source": [
        "listings = generated_listings[0].split('\\n\\n')"
      ],
      "metadata": {
        "id": "ZBGhV-FilQSX"
      },
      "id": "ZBGhV-FilQSX",
      "execution_count": 17,
      "outputs": []
    },
    {
      "cell_type": "code",
      "source": [
        "listings[0]"
      ],
      "metadata": {
        "colab": {
          "base_uri": "https://localhost:8080/",
          "height": 91
        },
        "id": "sEefNbaxpM-J",
        "outputId": "c1f3842a-5716-40c0-9ee4-01cb83a097ff"
      },
      "id": "sEefNbaxpM-J",
      "execution_count": 18,
      "outputs": [
        {
          "output_type": "execute_result",
          "data": {
            "text/plain": [
              "'Neighborhood: Lakefront Estates; Price: $1,200,000; Bedrooms: 4; Bathrooms: 3.5; House Size: 3,500 sqft; Description: Enjoy luxurious lakeside living in this stunning 4-bedroom, 3.5-bathroom estate in Lakefront Estates. The grand foyer welcomes you into a spacious open-concept living area with panoramic views of the lake. The gourmet kitchen features high-end appliances and a large island, perfect for entertaining. The expansive backyard offers a private dock and boat lift, ideal for water enthusiasts. Neighborhood Description: Lakefront Estates is an exclusive waterfront community known for its upscale homes, private marina, and scenic walking trails. Residents can enjoy boating, fishing, and lakeside picnics just steps from their front door. Close proximity to upscale shopping, fine dining, and top-rated schools make this neighborhood highly desirable. '"
            ],
            "application/vnd.google.colaboratory.intrinsic+json": {
              "type": "string"
            }
          },
          "metadata": {},
          "execution_count": 18
        }
      ]
    },
    {
      "cell_type": "code",
      "source": [
        "listings[12]"
      ],
      "metadata": {
        "colab": {
          "base_uri": "https://localhost:8080/",
          "height": 110
        },
        "id": "kFeS93QLlHY8",
        "outputId": "a10d32a4-262a-431f-db8c-fd6bd62e2309"
      },
      "id": "kFeS93QLlHY8",
      "execution_count": 20,
      "outputs": [
        {
          "output_type": "execute_result",
          "data": {
            "text/plain": [
              "'Neighborhood: Coastal Cottage Community; Price: $750,000; Bedrooms: 3; Bathrooms: 2.5; House Size: 2,200 sqft; Description: Experience coastal living in this charming 3-bedroom, 2.5-bathroom cottage located in the quaint Coastal Cottage Community. The light and airy living area features a cozy fireplace, shiplap accents, and French doors leading to a screened porch. The gourmet kitchen boasts quartz countertops, subway tile backsplash, and stainless steel appliances. The landscaped backyard is a private oasis with a fire pit, outdoor dining area, and lush gardens. Neighborhood Description: Coastal Cottage Community is a seaside neighborhood known for its sandy beaches, seaside cafes, and laid-back lifestyle. Residents can enjoy beachcombing, surfing, and sunset picnics just a short walk from their front door. With a strong sense of community and a relaxed vibe, this neighborhood offers the perfect coastal escape.'"
            ],
            "application/vnd.google.colaboratory.intrinsic+json": {
              "type": "string"
            }
          },
          "metadata": {},
          "execution_count": 20
        }
      ]
    },
    {
      "cell_type": "code",
      "source": [
        "with open('listings.pkl', 'wb') as f:\n",
        "    pickle.dump(listings, f)"
      ],
      "metadata": {
        "id": "SGr8m_24lltM"
      },
      "id": "SGr8m_24lltM",
      "execution_count": 26,
      "outputs": []
    },
    {
      "cell_type": "markdown",
      "id": "5b595542",
      "metadata": {
        "id": "5b595542"
      },
      "source": [
        "## Step 2: Storing Listings in a Vector Database"
      ]
    },
    {
      "cell_type": "code",
      "source": [
        "with open('listings.pkl', 'rb') as f:\n",
        "    listings = pickle.load(f)"
      ],
      "metadata": {
        "id": "Sa9wcy5YjX9z"
      },
      "id": "Sa9wcy5YjX9z",
      "execution_count": 27,
      "outputs": []
    },
    {
      "cell_type": "markdown",
      "source": [
        "I create a new ChromaDB collection where I will save the list of previous properties. I have decided to store the information of each property as documents directly to simplify the search according to the client's interests entered in natural language.\n",
        "\n",
        "As no embedding function is supplied, Chroma will use SentenceTransformer as a default."
      ],
      "metadata": {
        "id": "Irl7W7jyo-hg"
      },
      "id": "Irl7W7jyo-hg"
    },
    {
      "cell_type": "code",
      "source": [
        "import chromadb\n",
        "client = chromadb.PersistentClient()\n",
        "collection = client.get_or_create_collection(\"home_features\")\n",
        "\n",
        "for i, item in enumerate(listings):\n",
        "    collection.add(\n",
        "        documents=[item],\n",
        "        ids=[str(i)]\n",
        "    )"
      ],
      "metadata": {
        "colab": {
          "base_uri": "https://localhost:8080/"
        },
        "id": "M4YVWAEFmf02",
        "outputId": "bd0bccbb-c188-4359-d6e5-84126ef01643"
      },
      "id": "M4YVWAEFmf02",
      "execution_count": 29,
      "outputs": [
        {
          "output_type": "stream",
          "name": "stderr",
          "text": [
            "/root/.cache/chroma/onnx_models/all-MiniLM-L6-v2/onnx.tar.gz: 100%|██████████| 79.3M/79.3M [00:01<00:00, 68.6MiB/s]\n"
          ]
        }
      ]
    },
    {
      "cell_type": "markdown",
      "source": [
        "Next, we see that we have 13 documents saved and an example of the first document:\n"
      ],
      "metadata": {
        "id": "x0slAlALqfbe"
      },
      "id": "x0slAlALqfbe"
    },
    {
      "cell_type": "code",
      "source": [
        "collection.count()"
      ],
      "metadata": {
        "colab": {
          "base_uri": "https://localhost:8080/"
        },
        "id": "f74J9BnDnHnb",
        "outputId": "869d1194-8811-4edd-addb-e61bf7753eb0"
      },
      "id": "f74J9BnDnHnb",
      "execution_count": 30,
      "outputs": [
        {
          "output_type": "execute_result",
          "data": {
            "text/plain": [
              "13"
            ]
          },
          "metadata": {},
          "execution_count": 30
        }
      ]
    },
    {
      "cell_type": "code",
      "source": [
        "collection.peek(1)"
      ],
      "metadata": {
        "colab": {
          "base_uri": "https://localhost:8080/"
        },
        "id": "2A9Tx4kjnHta",
        "outputId": "aef1ce2e-5140-4286-9661-4787f11298c2"
      },
      "id": "2A9Tx4kjnHta",
      "execution_count": 33,
      "outputs": [
        {
          "output_type": "execute_result",
          "data": {
            "text/plain": [
              "{'ids': ['0'],\n",
              " 'embeddings': [[0.15903078019618988,\n",
              "   -0.05696413666009903,\n",
              "   0.041905347257852554,\n",
              "   -0.04410164803266525,\n",
              "   -0.0034898160956799984,\n",
              "   -0.009429418481886387,\n",
              "   -0.016508642584085464,\n",
              "   0.010040447115898132,\n",
              "   -0.04713725298643112,\n",
              "   0.021636007353663445,\n",
              "   0.03540901839733124,\n",
              "   -0.012959107756614685,\n",
              "   0.03908371925354004,\n",
              "   0.0003529523964971304,\n",
              "   0.05585859715938568,\n",
              "   0.04027879238128662,\n",
              "   0.0964839980006218,\n",
              "   -0.06388022005558014,\n",
              "   0.034443359822034836,\n",
              "   0.007843921892344952,\n",
              "   -0.057935334742069244,\n",
              "   -0.0038062159437686205,\n",
              "   0.057928744703531265,\n",
              "   -0.017242150381207466,\n",
              "   0.08734144270420074,\n",
              "   0.09170781821012497,\n",
              "   -0.009139681234955788,\n",
              "   0.03129904344677925,\n",
              "   -0.02294132299721241,\n",
              "   0.05235237628221512,\n",
              "   0.08088673651218414,\n",
              "   0.04833973944187164,\n",
              "   -0.03599729388952255,\n",
              "   -0.02561216987669468,\n",
              "   0.020298819988965988,\n",
              "   -0.0023264142218977213,\n",
              "   -0.025495333597064018,\n",
              "   -0.022442936897277832,\n",
              "   -0.024930868297815323,\n",
              "   0.0182501170784235,\n",
              "   0.020386021584272385,\n",
              "   0.004727387800812721,\n",
              "   0.0005194746772758663,\n",
              "   0.027429800480604172,\n",
              "   -0.016802342608571053,\n",
              "   -0.012455102987587452,\n",
              "   0.0033508387859910727,\n",
              "   0.011904502287507057,\n",
              "   0.10832452028989792,\n",
              "   0.013225208036601543,\n",
              "   0.053146086633205414,\n",
              "   0.00559040205553174,\n",
              "   -0.030704321339726448,\n",
              "   -0.023145169019699097,\n",
              "   -0.03424510732293129,\n",
              "   0.0344514437019825,\n",
              "   -0.07187122851610184,\n",
              "   0.0016342111630365252,\n",
              "   -0.0030309956055134535,\n",
              "   -0.004590864758938551,\n",
              "   -0.011503329500555992,\n",
              "   -0.004351053386926651,\n",
              "   -0.002374585485085845,\n",
              "   -0.03566140681505203,\n",
              "   0.033902645111083984,\n",
              "   -0.021568167954683304,\n",
              "   -0.09853498637676239,\n",
              "   -0.0024779723025858402,\n",
              "   -0.028079653158783913,\n",
              "   -0.0943741500377655,\n",
              "   0.019842438399791718,\n",
              "   0.0007672810461372137,\n",
              "   0.02844194509088993,\n",
              "   -0.12020433694124222,\n",
              "   -0.05379405617713928,\n",
              "   -0.0013575502671301365,\n",
              "   0.03308656066656113,\n",
              "   0.03385211527347565,\n",
              "   -0.009124099276959896,\n",
              "   -0.036158476024866104,\n",
              "   -0.007517158519476652,\n",
              "   -0.024624435231089592,\n",
              "   0.08067953586578369,\n",
              "   0.025619667023420334,\n",
              "   -0.06841718405485153,\n",
              "   -0.00873517245054245,\n",
              "   0.05244791507720947,\n",
              "   -0.075788214802742,\n",
              "   0.08326087892055511,\n",
              "   -0.00675807474181056,\n",
              "   -0.07149948924779892,\n",
              "   -0.029398245736956596,\n",
              "   -0.02714492753148079,\n",
              "   -0.06982380896806717,\n",
              "   -0.056507039815187454,\n",
              "   0.02986718714237213,\n",
              "   -0.07848422974348068,\n",
              "   -0.15476591885089874,\n",
              "   -0.0028677138034254313,\n",
              "   -0.0024000334087759256,\n",
              "   -0.0024770780000835657,\n",
              "   0.00030497770057991147,\n",
              "   0.10602766275405884,\n",
              "   -0.0214849766343832,\n",
              "   0.00679871067404747,\n",
              "   0.017602579668164253,\n",
              "   0.0030280586797744036,\n",
              "   0.10566713660955429,\n",
              "   -0.00512634078040719,\n",
              "   -0.01989697851240635,\n",
              "   0.00516502233222127,\n",
              "   -0.04671868309378624,\n",
              "   0.03396250307559967,\n",
              "   0.06391214579343796,\n",
              "   -0.02763313613831997,\n",
              "   -0.028171947225928307,\n",
              "   0.08448891341686249,\n",
              "   -0.1289694607257843,\n",
              "   0.035987213253974915,\n",
              "   -0.06066877767443657,\n",
              "   0.004175756126642227,\n",
              "   -0.024041421711444855,\n",
              "   0.06546063721179962,\n",
              "   -0.037134625017642975,\n",
              "   0.011485161259770393,\n",
              "   -0.00934578012675047,\n",
              "   -0.04713699594140053,\n",
              "   1.0783622424233842e-33,\n",
              "   -0.00839119590818882,\n",
              "   0.06736896932125092,\n",
              "   -0.013644566759467125,\n",
              "   0.002736418740823865,\n",
              "   0.07040160894393921,\n",
              "   -0.02535182796418667,\n",
              "   0.0007153515471145511,\n",
              "   -0.06235233321785927,\n",
              "   0.022051945328712463,\n",
              "   0.05544644594192505,\n",
              "   0.06511370092630386,\n",
              "   0.0014369572745636106,\n",
              "   -0.04811469838023186,\n",
              "   0.02807457372546196,\n",
              "   0.13619990646839142,\n",
              "   0.05154622718691826,\n",
              "   0.004440229386091232,\n",
              "   -0.006923693232238293,\n",
              "   -0.030572347342967987,\n",
              "   -0.06438478827476501,\n",
              "   -0.046474725008010864,\n",
              "   0.026636512950062752,\n",
              "   0.01101528387516737,\n",
              "   -0.05416474491357803,\n",
              "   -0.05596690997481346,\n",
              "   -0.07029258459806442,\n",
              "   0.026246551424264908,\n",
              "   0.0690399557352066,\n",
              "   -0.0012266949051991105,\n",
              "   0.022196389734745026,\n",
              "   0.024784768000245094,\n",
              "   -0.05091974511742592,\n",
              "   0.00971999205648899,\n",
              "   -0.04852358624339104,\n",
              "   0.018517563119530678,\n",
              "   0.03540368378162384,\n",
              "   0.011570143513381481,\n",
              "   -0.01746891438961029,\n",
              "   0.022077182307839394,\n",
              "   -0.02381015568971634,\n",
              "   -0.16494175791740417,\n",
              "   -0.0006303840782493353,\n",
              "   -0.018931034952402115,\n",
              "   0.07135660946369171,\n",
              "   -0.018007272854447365,\n",
              "   0.005245044361799955,\n",
              "   0.0799189880490303,\n",
              "   0.002909730188548565,\n",
              "   -0.026620684191584587,\n",
              "   -0.00354170729406178,\n",
              "   -0.008284816518425941,\n",
              "   -0.05912072956562042,\n",
              "   -0.05594583973288536,\n",
              "   0.11559144407510757,\n",
              "   -0.05922560766339302,\n",
              "   0.0049848398193717,\n",
              "   -0.015605316497385502,\n",
              "   0.003634452586993575,\n",
              "   0.05561055615544319,\n",
              "   0.009994610212743282,\n",
              "   -0.02974337711930275,\n",
              "   0.005961884744465351,\n",
              "   -0.03056483529508114,\n",
              "   -0.009874291718006134,\n",
              "   -0.03475668281316757,\n",
              "   0.0007051063585095108,\n",
              "   0.10484034568071365,\n",
              "   0.08317458629608154,\n",
              "   0.05687529966235161,\n",
              "   0.027834946289658546,\n",
              "   -0.002377158496528864,\n",
              "   -0.006711309775710106,\n",
              "   0.06624815613031387,\n",
              "   -0.005074087996035814,\n",
              "   0.061880964785814285,\n",
              "   -0.021290795877575874,\n",
              "   -0.020651929080486298,\n",
              "   -0.024977780878543854,\n",
              "   0.05764363706111908,\n",
              "   0.08747749775648117,\n",
              "   -0.0033217251766473055,\n",
              "   0.049486253410577774,\n",
              "   0.01931046135723591,\n",
              "   0.11743030697107315,\n",
              "   0.03517301380634308,\n",
              "   -0.0503658764064312,\n",
              "   0.03812403976917267,\n",
              "   -0.002100838115438819,\n",
              "   -0.09885121136903763,\n",
              "   0.01972796767950058,\n",
              "   -0.0011103763245046139,\n",
              "   0.026959946379065514,\n",
              "   0.024299435317516327,\n",
              "   -0.004838719964027405,\n",
              "   -0.0369996502995491,\n",
              "   -2.5930569676124625e-33,\n",
              "   -0.020944533869624138,\n",
              "   -0.024975528940558434,\n",
              "   -0.06575506925582886,\n",
              "   -0.022604968398809433,\n",
              "   0.05440991371870041,\n",
              "   -0.04126882180571556,\n",
              "   0.02438860759139061,\n",
              "   -0.03418043255805969,\n",
              "   0.027211034670472145,\n",
              "   -0.01603938639163971,\n",
              "   -0.19978860020637512,\n",
              "   0.08503913879394531,\n",
              "   0.05730224400758743,\n",
              "   0.050016507506370544,\n",
              "   -0.018776170909404755,\n",
              "   -0.050040654838085175,\n",
              "   -0.0013319108402356505,\n",
              "   -0.03332718089222908,\n",
              "   0.04510757699608803,\n",
              "   -0.002829070668667555,\n",
              "   0.008989891037344933,\n",
              "   0.05994745343923569,\n",
              "   0.057385850697755814,\n",
              "   0.06220415607094765,\n",
              "   0.007872031070291996,\n",
              "   0.042235322296619415,\n",
              "   -0.09061494469642639,\n",
              "   0.0398423969745636,\n",
              "   -0.03946793079376221,\n",
              "   -0.01182900182902813,\n",
              "   -0.09857004135847092,\n",
              "   -0.00974411703646183,\n",
              "   0.09213101863861084,\n",
              "   -0.09232845157384872,\n",
              "   0.006126664113253355,\n",
              "   -0.03680691123008728,\n",
              "   0.0628914162516594,\n",
              "   -0.0192377008497715,\n",
              "   -0.06859572231769562,\n",
              "   0.0564115010201931,\n",
              "   0.07072310149669647,\n",
              "   -0.10177769511938095,\n",
              "   0.060150306671857834,\n",
              "   -0.03469417244195938,\n",
              "   0.0025940400082618,\n",
              "   0.04395312815904617,\n",
              "   -0.07660749554634094,\n",
              "   -0.07200565189123154,\n",
              "   -0.022305088117718697,\n",
              "   0.008778594434261322,\n",
              "   -1.6685187802067958e-05,\n",
              "   0.04983288049697876,\n",
              "   0.007587913889437914,\n",
              "   0.0412587970495224,\n",
              "   0.02832935005426407,\n",
              "   -0.07996353507041931,\n",
              "   0.09271489083766937,\n",
              "   0.0978701114654541,\n",
              "   -0.04959579557180405,\n",
              "   0.06717733293771744,\n",
              "   0.013505556620657444,\n",
              "   0.035531070083379745,\n",
              "   -0.022343819960951805,\n",
              "   0.1302420198917389,\n",
              "   0.04516511410474777,\n",
              "   0.014221237041056156,\n",
              "   -0.03254399448633194,\n",
              "   -0.07933753728866577,\n",
              "   -0.09998662024736404,\n",
              "   -0.025036942213773727,\n",
              "   -0.1293879598379135,\n",
              "   -0.10694638639688492,\n",
              "   -0.0180301945656538,\n",
              "   -0.01083520520478487,\n",
              "   0.013482840731739998,\n",
              "   0.012741770595312119,\n",
              "   0.0671931803226471,\n",
              "   -0.0025066586676985025,\n",
              "   0.09551727026700974,\n",
              "   -0.02483510412275791,\n",
              "   0.040814802050590515,\n",
              "   0.015217041596770287,\n",
              "   -0.0058256834745407104,\n",
              "   -0.03677743673324585,\n",
              "   0.037266191095113754,\n",
              "   -0.07446790486574173,\n",
              "   -0.045367538928985596,\n",
              "   -0.04194511100649834,\n",
              "   -0.027290713042020798,\n",
              "   0.05825723335146904,\n",
              "   -0.00513051263988018,\n",
              "   0.027025166898965836,\n",
              "   -0.10518915951251984,\n",
              "   -0.023866917937994003,\n",
              "   0.030451757833361626,\n",
              "   -4.590112467894869e-08,\n",
              "   0.005515578202903271,\n",
              "   0.09700573980808258,\n",
              "   0.08148068934679031,\n",
              "   0.01723780296742916,\n",
              "   -0.054671481251716614,\n",
              "   -0.09697414934635162,\n",
              "   0.078797347843647,\n",
              "   0.09164893627166748,\n",
              "   0.058658573776483536,\n",
              "   0.006448049563914537,\n",
              "   -0.002960542216897011,\n",
              "   -0.01582789048552513,\n",
              "   0.029256554320454597,\n",
              "   -0.011840356513857841,\n",
              "   -0.10439906269311905,\n",
              "   -0.003170545445755124,\n",
              "   0.009671085514128208,\n",
              "   -0.05371173098683357,\n",
              "   -0.06270786374807358,\n",
              "   -0.005528353154659271,\n",
              "   -0.004333453718572855,\n",
              "   -0.01753985695540905,\n",
              "   -0.04261346906423569,\n",
              "   -0.019320927560329437,\n",
              "   -0.010316746309399605,\n",
              "   -0.04169440641999245,\n",
              "   -0.07625583559274673,\n",
              "   -0.017828136682510376,\n",
              "   -0.044735800474882126,\n",
              "   -0.041963689029216766,\n",
              "   0.04209759831428528,\n",
              "   0.01698319800198078,\n",
              "   -0.006312686484307051,\n",
              "   0.031236018985509872,\n",
              "   -0.041751231998205185,\n",
              "   -0.022904274985194206,\n",
              "   -0.03557328134775162,\n",
              "   -0.014229117892682552,\n",
              "   0.0016139389481395483,\n",
              "   0.005520895589143038,\n",
              "   -0.10231904685497284,\n",
              "   -0.05414578318595886,\n",
              "   -0.007837241515517235,\n",
              "   -0.04350345954298973,\n",
              "   -0.00882549025118351,\n",
              "   0.12093649059534073,\n",
              "   0.048669490963220596,\n",
              "   -0.018349478021264076,\n",
              "   0.05063902959227562,\n",
              "   0.022960787639021873,\n",
              "   -0.029167432337999344,\n",
              "   -0.017237501218914986,\n",
              "   -0.019453920423984528,\n",
              "   -0.06409965455532074,\n",
              "   0.011121509596705437,\n",
              "   -0.006654169410467148,\n",
              "   -0.021838517859578133,\n",
              "   0.013184670358896255,\n",
              "   -0.0017285060603171587,\n",
              "   0.013066908344626427,\n",
              "   0.056618835777044296,\n",
              "   -0.016876699402928352,\n",
              "   -0.07178084552288055,\n",
              "   0.009803203865885735]],\n",
              " 'metadatas': [None],\n",
              " 'documents': ['Neighborhood: Lakefront Estates; Price: $1,200,000; Bedrooms: 4; Bathrooms: 3.5; House Size: 3,500 sqft; Description: Enjoy luxurious lakeside living in this stunning 4-bedroom, 3.5-bathroom estate in Lakefront Estates. The grand foyer welcomes you into a spacious open-concept living area with panoramic views of the lake. The gourmet kitchen features high-end appliances and a large island, perfect for entertaining. The expansive backyard offers a private dock and boat lift, ideal for water enthusiasts. Neighborhood Description: Lakefront Estates is an exclusive waterfront community known for its upscale homes, private marina, and scenic walking trails. Residents can enjoy boating, fishing, and lakeside picnics just steps from their front door. Close proximity to upscale shopping, fine dining, and top-rated schools make this neighborhood highly desirable. ']}"
            ]
          },
          "metadata": {},
          "execution_count": 33
        }
      ]
    },
    {
      "cell_type": "markdown",
      "source": [
        "## Step 3: Building the User Preference Interface\n",
        "\n",
        "I have decided to dynamically obtain the client's interests, so I have also used an LLM model to which I pass certain questions and save their responses."
      ],
      "metadata": {
        "id": "GC9Bk0SIq2O9"
      },
      "id": "GC9Bk0SIq2O9"
    },
    {
      "cell_type": "code",
      "source": [
        "def generate_user_interests(prompt):\n",
        "    try:\n",
        "        response = openai.ChatCompletion.create(\n",
        "            model=\"gpt-3.5-turbo\",\n",
        "            messages=[\n",
        "                {\n",
        "                    \"role\": \"system\",\n",
        "                    \"content\": \"You are a user who is trying to buy a house. Answer the following questions to find out what interests you. Give me your answer in less than 200 tokens.\"\n",
        "                },\n",
        "                {\n",
        "                    \"role\": \"user\",\n",
        "                    \"content\": prompt\n",
        "                }\n",
        "            ],\n",
        "            temperature=0.7,\n",
        "            max_tokens=200,\n",
        "            top_p=1,\n",
        "            frequency_penalty=0,\n",
        "            presence_penalty=0\n",
        "        )\n",
        "        listings = [choice.message.content for choice in response.choices]\n",
        "        return listings\n",
        "    except Exception as e:\n",
        "        return json.dumps([{\"error\": str(e)}])"
      ],
      "metadata": {
        "id": "84niI_OzmQm5"
      },
      "id": "84niI_OzmQm5",
      "execution_count": 41,
      "outputs": []
    },
    {
      "cell_type": "code",
      "source": [
        "prompt = [\"How big do you want your house to be?\",\n",
        "          \"How many bedrooms are you looking for?\",\n",
        "          \"Are you looking for a house with more than one bathroom?\",\n",
        "          \"How urban do you want your neighborhood to be?\",\n",
        "          \"What approximate price are you looking for?\"\n",
        "          ]\n",
        "user_interests = generate_user_interests(\" \".join(prompt))"
      ],
      "metadata": {
        "id": "6PXlICIFtn8t"
      },
      "id": "6PXlICIFtn8t",
      "execution_count": 42,
      "outputs": []
    },
    {
      "cell_type": "code",
      "source": [
        "user_interests"
      ],
      "metadata": {
        "colab": {
          "base_uri": "https://localhost:8080/"
        },
        "id": "jWQOpRJvvIZ4",
        "outputId": "75b6fb26-872f-44a9-9adb-99bde3b986d7"
      },
      "id": "jWQOpRJvvIZ4",
      "execution_count": 43,
      "outputs": [
        {
          "output_type": "execute_result",
          "data": {
            "text/plain": [
              "['I am looking for a medium-sized house with 3-4 bedrooms and at least 2 bathrooms. I prefer a suburban neighborhood with easy access to urban amenities. My budget is around $500,000.']"
            ]
          },
          "metadata": {},
          "execution_count": 43
        }
      ]
    },
    {
      "cell_type": "markdown",
      "source": [
        "## Step 4: Searching Based on Preferences\n",
        "\n",
        "I search for the 2 properties stored in the database vector that most closely match the client's specifications."
      ],
      "metadata": {
        "id": "1CYkYyHL0GMY"
      },
      "id": "1CYkYyHL0GMY"
    },
    {
      "cell_type": "code",
      "source": [
        "response = collection.query(\n",
        "    query_texts=user_interests,\n",
        "    n_results=2\n",
        ")\n",
        "response"
      ],
      "metadata": {
        "colab": {
          "base_uri": "https://localhost:8080/"
        },
        "id": "_5xLbjnVyGbe",
        "outputId": "f8a177f9-bb1f-47cc-f9e1-954f2e06206e"
      },
      "id": "_5xLbjnVyGbe",
      "execution_count": 52,
      "outputs": [
        {
          "output_type": "execute_result",
          "data": {
            "text/plain": [
              "{'ids': [['2', '4']],\n",
              " 'distances': [[0.8289262174209224, 0.9366515334660342]],\n",
              " 'metadatas': [[None, None]],\n",
              " 'embeddings': None,\n",
              " 'documents': [['Neighborhood: Urban Loft District; Price: $500,000; Bedrooms: 2; Bathrooms: 2; House Size: 1,800 sqft; Description: Experience modern urban living in this stylish 2-bedroom, 2-bathroom loft located in the vibrant Urban Loft District. The industrial-chic design features exposed brick walls, high ceilings, and polished concrete floors. The open-concept living area is perfect for entertaining, with a gourmet kitchen and a spacious dining area. Floor-to-ceiling windows flood the space with natural light, creating a bright and airy ambiance. Neighborhood Description: The Urban Loft District is a trendy neighborhood known for its converted loft spaces, art galleries, and hip eateries. Residents can walk to boutique shops, cafes, and cultural attractions, making it a vibrant and lively community for young professionals and creatives. ',\n",
              "   'Neighborhood: Historic Downtown; Price: $600,000; Bedrooms: 3; Bathrooms: 2; House Size: 1,600 sqft; Description: Step back in time with this charming 3-bedroom, 2-bathroom historic home in Downtown. The restored Victorian features original hardwood floors, crown molding, and period details throughout. The cozy living room is anchored by a vintage fireplace, perfect for chilly evenings. The wrap-around porch is ideal for sipping lemonade and watching the world go by. Neighborhood Description: Historic Downtown is a quaint district filled with tree-lined streets, historic homes, and unique shops. Residents can walk to local cafes, farmers markets, and cultural events, immersing themselves in the rich history and charm of the neighborhood. ']]}"
            ]
          },
          "metadata": {},
          "execution_count": 52
        }
      ]
    },
    {
      "cell_type": "markdown",
      "source": [
        "## Step 5: Personalizing Listing Descriptions"
      ],
      "metadata": {
        "id": "wOk09PD_0jUr"
      },
      "id": "wOk09PD_0jUr"
    },
    {
      "cell_type": "code",
      "source": [
        "def generate_house_description(prompt):\n",
        "    try:\n",
        "        response = openai.ChatCompletion.create(\n",
        "            model=\"gpt-3.5-turbo\",\n",
        "            messages=[\n",
        "                {\n",
        "                    \"role\": \"system\",\n",
        "                    \"content\": \"You are a knowledgeable real estate agent. Make a description of the house considering the specifications given by the client and the features of the house you want to sell. When there is a mismatch between them, you always have to consider the House features as the source of truth.\"\n",
        "                },\n",
        "                {\n",
        "                    \"role\": \"user\",\n",
        "                    \"content\": prompt\n",
        "                }\n",
        "            ],\n",
        "            temperature=0.7,\n",
        "            max_tokens=500,\n",
        "            top_p=1,\n",
        "            frequency_penalty=0,\n",
        "            presence_penalty=0\n",
        "        )\n",
        "        listings = [choice.message.content for choice in response.choices]\n",
        "        return listings\n",
        "    except Exception as e:\n",
        "        return json.dumps([{\"error\": str(e)}])"
      ],
      "metadata": {
        "id": "Naphi90uyXLZ"
      },
      "id": "Naphi90uyXLZ",
      "execution_count": 67,
      "outputs": []
    },
    {
      "cell_type": "markdown",
      "source": [
        "Property that most closely resembles the client's specifications:"
      ],
      "metadata": {
        "id": "q0KhnBwb8-QD"
      },
      "id": "q0KhnBwb8-QD"
    },
    {
      "cell_type": "code",
      "source": [
        "response['documents'][0][0]"
      ],
      "metadata": {
        "colab": {
          "base_uri": "https://localhost:8080/",
          "height": 91
        },
        "id": "cLp12NKh5XLJ",
        "outputId": "d24fe97d-cade-421f-80c6-55c8176e80d5"
      },
      "id": "cLp12NKh5XLJ",
      "execution_count": 71,
      "outputs": [
        {
          "output_type": "execute_result",
          "data": {
            "text/plain": [
              "'Neighborhood: Urban Loft District; Price: $500,000; Bedrooms: 2; Bathrooms: 2; House Size: 1,800 sqft; Description: Experience modern urban living in this stylish 2-bedroom, 2-bathroom loft located in the vibrant Urban Loft District. The industrial-chic design features exposed brick walls, high ceilings, and polished concrete floors. The open-concept living area is perfect for entertaining, with a gourmet kitchen and a spacious dining area. Floor-to-ceiling windows flood the space with natural light, creating a bright and airy ambiance. Neighborhood Description: The Urban Loft District is a trendy neighborhood known for its converted loft spaces, art galleries, and hip eateries. Residents can walk to boutique shops, cafes, and cultural attractions, making it a vibrant and lively community for young professionals and creatives. '"
            ],
            "application/vnd.google.colaboratory.intrinsic+json": {
              "type": "string"
            }
          },
          "metadata": {},
          "execution_count": 71
        }
      ]
    },
    {
      "cell_type": "markdown",
      "source": [
        "Corresponding description from the real estate agent:"
      ],
      "metadata": {
        "id": "DCOrSGvN9CPd"
      },
      "id": "DCOrSGvN9CPd"
    },
    {
      "cell_type": "code",
      "source": [
        "prompt = [\"Client specifications:\" + user_interests[0] + \". House features: \" + response['documents'][0][0]]\n",
        "house_description = generate_house_description(\" \".join(prompt))\n",
        "house_description"
      ],
      "metadata": {
        "colab": {
          "base_uri": "https://localhost:8080/"
        },
        "id": "eFuiyr7m1Svr",
        "outputId": "030d77e6-5ff7-4dfd-fe23-74c4048ed901"
      },
      "id": "eFuiyr7m1Svr",
      "execution_count": 68,
      "outputs": [
        {
          "output_type": "execute_result",
          "data": {
            "text/plain": [
              "[\"Welcome to this stunning 2-bedroom, 2-bathroom loft located in the heart of the vibrant Urban Loft District, priced at $500,000. Spanning 1,800 sqft, this modern urban dwelling boasts a contemporary industrial-chic design with exposed brick walls, high ceilings, and polished concrete floors, offering a unique and stylish living experience.\\n\\nThe open-concept living area is designed for both comfort and entertainment, featuring a gourmet kitchen and a spacious dining area. Floor-to-ceiling windows flood the space with natural light, creating a bright and airy ambiance that complements the modern aesthetic of the home.\\n\\nSituated in the sought-after Urban Loft District, this property offers easy access to urban amenities, boutique shops, cafes, art galleries, and trendy eateries, all within walking distance. The neighborhood is known for its dynamic and lively atmosphere, making it the perfect place for young professionals and creatives looking to immerse themselves in a vibrant community.\\n\\nDon't miss the opportunity to experience modern urban living at its finest in this exceptional loft in the Urban Loft District. Contact me today to schedule a viewing and make this unique property your new home!\"]"
            ]
          },
          "metadata": {},
          "execution_count": 68
        }
      ]
    },
    {
      "cell_type": "markdown",
      "source": [
        "Second property that most closely resembles the client's specifications:"
      ],
      "metadata": {
        "id": "sohKd1lS9LIh"
      },
      "id": "sohKd1lS9LIh"
    },
    {
      "cell_type": "code",
      "source": [
        "response['documents'][0][1]"
      ],
      "metadata": {
        "colab": {
          "base_uri": "https://localhost:8080/",
          "height": 91
        },
        "id": "IBcXZgle4yXU",
        "outputId": "b01631ed-1526-41f1-90ea-a7cdf4cb7ec7"
      },
      "id": "IBcXZgle4yXU",
      "execution_count": 70,
      "outputs": [
        {
          "output_type": "execute_result",
          "data": {
            "text/plain": [
              "'Neighborhood: Historic Downtown; Price: $600,000; Bedrooms: 3; Bathrooms: 2; House Size: 1,600 sqft; Description: Step back in time with this charming 3-bedroom, 2-bathroom historic home in Downtown. The restored Victorian features original hardwood floors, crown molding, and period details throughout. The cozy living room is anchored by a vintage fireplace, perfect for chilly evenings. The wrap-around porch is ideal for sipping lemonade and watching the world go by. Neighborhood Description: Historic Downtown is a quaint district filled with tree-lined streets, historic homes, and unique shops. Residents can walk to local cafes, farmers markets, and cultural events, immersing themselves in the rich history and charm of the neighborhood. '"
            ],
            "application/vnd.google.colaboratory.intrinsic+json": {
              "type": "string"
            }
          },
          "metadata": {},
          "execution_count": 70
        }
      ]
    },
    {
      "cell_type": "markdown",
      "source": [
        "Corresponding description from the real estate agent:"
      ],
      "metadata": {
        "id": "c-jR0zwD9PsI"
      },
      "id": "c-jR0zwD9PsI"
    },
    {
      "cell_type": "code",
      "source": [
        "prompt = [\"Client specifications:\" + user_interests[0] + \". House features: \" + response['documents'][0][1]]\n",
        "house_description = generate_house_description(\" \".join(prompt))\n",
        "house_description"
      ],
      "metadata": {
        "colab": {
          "base_uri": "https://localhost:8080/"
        },
        "id": "jraAg_xC4ffA",
        "outputId": "00c4eb7f-e009-4a77-e89a-b89830ff86e0"
      },
      "id": "jraAg_xC4ffA",
      "execution_count": 69,
      "outputs": [
        {
          "output_type": "execute_result",
          "data": {
            "text/plain": [
              "[\"Welcome to this charming historic home located in the heart of Downtown! This 3-bedroom, 2-bathroom Victorian beauty offers a glimpse into the past with its original hardwood floors, crown molding, and period details that exude timeless elegance. The cozy living room, complete with a vintage fireplace, provides the perfect setting for intimate gatherings and cozy nights in.\\n\\nStep outside onto the wrap-around porch, where you can enjoy a relaxing moment sipping lemonade and soaking in the picturesque surroundings of tree-lined streets and historic homes that define the quaint charm of Historic Downtown.\\n\\nWhile this home may not match the client's initial specifications in terms of the number of bedrooms and bathrooms, its unique features and character offer a rare opportunity to own a piece of history in a highly desirable neighborhood. With a house size of 1,600 sqft and priced at $600,000, this property presents a blend of comfort, nostalgia, and community that is sure to captivate those seeking a distinctive living experience.\\n\\nImmerse yourself in the rich history and vibrant culture of Historic Downtown – contact me today to schedule a viewing and discover the magic of this enchanting home!\"]"
            ]
          },
          "metadata": {},
          "execution_count": 69
        }
      ]
    }
  ],
  "metadata": {
    "kernelspec": {
      "display_name": "Python 3 (ipykernel)",
      "language": "python",
      "name": "python3"
    },
    "language_info": {
      "codemirror_mode": {
        "name": "ipython",
        "version": 3
      },
      "file_extension": ".py",
      "mimetype": "text/x-python",
      "name": "python",
      "nbconvert_exporter": "python",
      "pygments_lexer": "ipython3",
      "version": "3.10.13"
    },
    "colab": {
      "provenance": []
    }
  },
  "nbformat": 4,
  "nbformat_minor": 5
}